{
 "cells": [
  {
   "attachments": {},
   "cell_type": "markdown",
   "metadata": {},
   "source": [
    "This notebook assumes you have run:\n",
    "\n",
    "```\n",
    "git clone https://dagshub.com/onefact/data.payless.health.git\n",
    "cd data.payless.health\n",
    "dvc pull\n",
    "```\n"
   ]
  },
  {
   "cell_type": "code",
   "execution_count": 10,
   "metadata": {},
   "outputs": [],
   "source": [
    "import pandas as pd\n",
    "import wget \n",
    "import os\n",
    "from urllib.parse import urlparse\n",
    "from pathlib import Path\n",
    "raw_data_dir = Path(\"/Users/me/tmp/data.payless.health/data/raw\")"
   ]
  },
  {
   "cell_type": "code",
   "execution_count": 11,
   "metadata": {},
   "outputs": [],
   "source": [
    "df = pd.read_csv(raw_data_dir / \"220106-dolthub.com-onefact-paylesshealth-hospitals.csv\")"
   ]
  },
  {
   "cell_type": "code",
   "execution_count": 12,
   "metadata": {},
   "outputs": [
    {
     "data": {
      "text/html": [
       "<div>\n",
       "<style scoped>\n",
       "    .dataframe tbody tr th:only-of-type {\n",
       "        vertical-align: middle;\n",
       "    }\n",
       "\n",
       "    .dataframe tbody tr th {\n",
       "        vertical-align: top;\n",
       "    }\n",
       "\n",
       "    .dataframe thead th {\n",
       "        text-align: right;\n",
       "    }\n",
       "</style>\n",
       "<table border=\"1\" class=\"dataframe\">\n",
       "  <thead>\n",
       "    <tr style=\"text-align: right;\">\n",
       "      <th></th>\n",
       "      <th>ccn</th>\n",
       "      <th>name</th>\n",
       "      <th>state</th>\n",
       "      <th>city</th>\n",
       "      <th>homepage</th>\n",
       "      <th>cdm_indirect_url</th>\n",
       "      <th>cdm_url</th>\n",
       "    </tr>\n",
       "  </thead>\n",
       "  <tbody>\n",
       "    <tr>\n",
       "      <th>0</th>\n",
       "      <td>154063</td>\n",
       "      <td>NEUROPSYCHIATRIC HOSPITAL OF INDIANAPOLIS, LLC</td>\n",
       "      <td>IN</td>\n",
       "      <td>INDIANAPOLIS</td>\n",
       "      <td>https://www.neuropsychiatrichospitals.net/</td>\n",
       "      <td>https://www.neuropsychiatrichospitals.net/pric...</td>\n",
       "      <td>https://www.neuropsychiatrichospitals.net/wp-c...</td>\n",
       "    </tr>\n",
       "    <tr>\n",
       "      <th>1</th>\n",
       "      <td>154064</td>\n",
       "      <td>ASSURANCE HEALTH PSYCHIATRIC HOSPITAL</td>\n",
       "      <td>IN</td>\n",
       "      <td>INDIANAPOLIS</td>\n",
       "      <td>http://assurancehealthsystem.com/</td>\n",
       "      <td>NaN</td>\n",
       "      <td>NaN</td>\n",
       "    </tr>\n",
       "    <tr>\n",
       "      <th>2</th>\n",
       "      <td>154065</td>\n",
       "      <td>NEURO BEHAVIORAL HOSPITAL</td>\n",
       "      <td>IN</td>\n",
       "      <td>CROWN POINT</td>\n",
       "      <td>https://www.neuropsychiatrichospitals.net/</td>\n",
       "      <td>https://www.neuropsychiatrichospitals.net/pric...</td>\n",
       "      <td>https://www.neuropsychiatrichospitals.net/wp-c...</td>\n",
       "    </tr>\n",
       "    <tr>\n",
       "      <th>3</th>\n",
       "      <td>154066</td>\n",
       "      <td>BRIGHTWELL BEHAVIORAL HEALTH</td>\n",
       "      <td>IN</td>\n",
       "      <td>CLARKSVILLE</td>\n",
       "      <td>https://brightwellbehavioral.com/</td>\n",
       "      <td>NaN</td>\n",
       "      <td>NaN</td>\n",
       "    </tr>\n",
       "    <tr>\n",
       "      <th>4</th>\n",
       "      <td>154067</td>\n",
       "      <td>HENDRICKS BEHAVIORAL HOSPITAL</td>\n",
       "      <td>IN</td>\n",
       "      <td>PLAINFIELD</td>\n",
       "      <td>https://www.hendricksbehavioralhospital.com/</td>\n",
       "      <td>https://www.hendricksbehavioralhospital.com/</td>\n",
       "      <td>https://s3.amazonaws.com/ycubaa-production-mar...</td>\n",
       "    </tr>\n",
       "  </tbody>\n",
       "</table>\n",
       "</div>"
      ],
      "text/plain": [
       "      ccn                                            name state          city  \\\n",
       "0  154063  NEUROPSYCHIATRIC HOSPITAL OF INDIANAPOLIS, LLC    IN  INDIANAPOLIS   \n",
       "1  154064           ASSURANCE HEALTH PSYCHIATRIC HOSPITAL    IN  INDIANAPOLIS   \n",
       "2  154065                       NEURO BEHAVIORAL HOSPITAL    IN   CROWN POINT   \n",
       "3  154066                    BRIGHTWELL BEHAVIORAL HEALTH    IN   CLARKSVILLE   \n",
       "4  154067                   HENDRICKS BEHAVIORAL HOSPITAL    IN    PLAINFIELD   \n",
       "\n",
       "                                       homepage  \\\n",
       "0    https://www.neuropsychiatrichospitals.net/   \n",
       "1             http://assurancehealthsystem.com/   \n",
       "2    https://www.neuropsychiatrichospitals.net/   \n",
       "3             https://brightwellbehavioral.com/   \n",
       "4  https://www.hendricksbehavioralhospital.com/   \n",
       "\n",
       "                                    cdm_indirect_url  \\\n",
       "0  https://www.neuropsychiatrichospitals.net/pric...   \n",
       "1                                                NaN   \n",
       "2  https://www.neuropsychiatrichospitals.net/pric...   \n",
       "3                                                NaN   \n",
       "4       https://www.hendricksbehavioralhospital.com/   \n",
       "\n",
       "                                             cdm_url  \n",
       "0  https://www.neuropsychiatrichospitals.net/wp-c...  \n",
       "1                                                NaN  \n",
       "2  https://www.neuropsychiatrichospitals.net/wp-c...  \n",
       "3                                                NaN  \n",
       "4  https://s3.amazonaws.com/ycubaa-production-mar...  "
      ]
     },
     "execution_count": 12,
     "metadata": {},
     "output_type": "execute_result"
    }
   ],
   "source": [
    "df.head()"
   ]
  },
  {
   "cell_type": "code",
   "execution_count": 34,
   "metadata": {},
   "outputs": [
    {
     "name": "stdout",
     "output_type": "stream",
     "text": [
      "/Users/me/tmp/data.payless.health/data/raw/154063_NPH-Price-Tranparency-Pricing.xlsx\n",
      "/Users/me/tmp/data.payless.health/data/raw/154065_NPH-Price-Tranparency-Pricing.xlsx\n",
      "/Users/me/tmp/data.payless.health/data/raw/154067_85-2580772_HendricksBehavioralHealth_Standardcharges_11072022.xlsx\n",
      "/Users/me/tmp/data.payless.health/data/raw/159801_351963748_Lutheran_standardcharges.csv\n",
      "/Users/me/tmp/data.payless.health/data/raw/159802_350869066_ascension-st-vincent-hospital_standardcharges.xlsx\n",
      "/Users/me/tmp/data.payless.health/data/raw/159803_35-1720796_BLOOMINGTON_HOSPITAL_standardcharges22.csv\n"
     ]
    }
   ],
   "source": [
    "\n",
    "error_rows = []\n",
    "for _, df_row in df.iterrows():\n",
    "    try:\n",
    "        filename = os.path.basename(urlparse(df_row[\"cdm_url\"]).path)\n",
    "        out_path = raw_data_dir / f\"{df_row['ccn']}_{filename}\"\n",
    "        print(out_path)\n",
    "        wget.download(df_row[\"cdm_url\"], out=str(out_path))\n",
    "    except:\n",
    "        error_rows.append(df_row)"
   ]
  },
  {
   "cell_type": "code",
   "execution_count": 33,
   "metadata": {},
   "outputs": [
    {
     "ename": "TypeError",
     "evalue": "unsupported operand type(s) for +: 'PosixPath' and 'str'",
     "output_type": "error",
     "traceback": [
      "\u001b[0;31m---------------------------------------------------------------------------\u001b[0m",
      "\u001b[0;31mTypeError\u001b[0m                                 Traceback (most recent call last)",
      "Cell \u001b[0;32mIn [33], line 1\u001b[0m\n\u001b[0;32m----> 1\u001b[0m wget\u001b[39m.\u001b[39;49mdownload(df_row[\u001b[39m\"\u001b[39;49m\u001b[39mcdm_url\u001b[39;49m\u001b[39m\"\u001b[39;49m], out\u001b[39m=\u001b[39;49mout_path)\n",
      "File \u001b[0;32m/opt/homebrew/anaconda3/envs/payless.health/lib/python3.10/site-packages/wget.py:506\u001b[0m, in \u001b[0;36mdownload\u001b[0;34m(url, out, bar)\u001b[0m\n\u001b[1;32m    504\u001b[0m \u001b[39m# get filename for temp file in current directory\u001b[39;00m\n\u001b[1;32m    505\u001b[0m prefix \u001b[39m=\u001b[39m detect_filename(url, out)\n\u001b[0;32m--> 506\u001b[0m (fd, tmpfile) \u001b[39m=\u001b[39m tempfile\u001b[39m.\u001b[39;49mmkstemp(\u001b[39m\"\u001b[39;49m\u001b[39m.tmp\u001b[39;49m\u001b[39m\"\u001b[39;49m, prefix\u001b[39m=\u001b[39;49mprefix, \u001b[39mdir\u001b[39;49m\u001b[39m=\u001b[39;49m\u001b[39m\"\u001b[39;49m\u001b[39m.\u001b[39;49m\u001b[39m\"\u001b[39;49m)\n\u001b[1;32m    507\u001b[0m os\u001b[39m.\u001b[39mclose(fd)\n\u001b[1;32m    508\u001b[0m os\u001b[39m.\u001b[39munlink(tmpfile)\n",
      "File \u001b[0;32m/opt/homebrew/anaconda3/envs/payless.health/lib/python3.10/tempfile.py:341\u001b[0m, in \u001b[0;36mmkstemp\u001b[0;34m(suffix, prefix, dir, text)\u001b[0m\n\u001b[1;32m    338\u001b[0m \u001b[39melse\u001b[39;00m:\n\u001b[1;32m    339\u001b[0m     flags \u001b[39m=\u001b[39m _bin_openflags\n\u001b[0;32m--> 341\u001b[0m \u001b[39mreturn\u001b[39;00m _mkstemp_inner(\u001b[39mdir\u001b[39;49m, prefix, suffix, flags, output_type)\n",
      "File \u001b[0;32m/opt/homebrew/anaconda3/envs/payless.health/lib/python3.10/tempfile.py:253\u001b[0m, in \u001b[0;36m_mkstemp_inner\u001b[0;34m(dir, pre, suf, flags, output_type)\u001b[0m\n\u001b[1;32m    251\u001b[0m \u001b[39mfor\u001b[39;00m seq \u001b[39min\u001b[39;00m \u001b[39mrange\u001b[39m(TMP_MAX):\n\u001b[1;32m    252\u001b[0m     name \u001b[39m=\u001b[39m \u001b[39mnext\u001b[39m(names)\n\u001b[0;32m--> 253\u001b[0m     file \u001b[39m=\u001b[39m _os\u001b[39m.\u001b[39mpath\u001b[39m.\u001b[39mjoin(\u001b[39mdir\u001b[39m, pre \u001b[39m+\u001b[39;49m name \u001b[39m+\u001b[39m suf)\n\u001b[1;32m    254\u001b[0m     _sys\u001b[39m.\u001b[39maudit(\u001b[39m\"\u001b[39m\u001b[39mtempfile.mkstemp\u001b[39m\u001b[39m\"\u001b[39m, file)\n\u001b[1;32m    255\u001b[0m     \u001b[39mtry\u001b[39;00m:\n",
      "\u001b[0;31mTypeError\u001b[0m: unsupported operand type(s) for +: 'PosixPath' and 'str'"
     ]
    }
   ],
   "source": []
  },
  {
   "cell_type": "code",
   "execution_count": null,
   "metadata": {},
   "outputs": [],
   "source": []
  }
 ],
 "metadata": {
  "kernelspec": {
   "display_name": "payless.health",
   "language": "python",
   "name": "python3"
  },
  "language_info": {
   "codemirror_mode": {
    "name": "ipython",
    "version": 3
   },
   "file_extension": ".py",
   "mimetype": "text/x-python",
   "name": "python",
   "nbconvert_exporter": "python",
   "pygments_lexer": "ipython3",
   "version": "3.10.8"
  },
  "orig_nbformat": 4,
  "vscode": {
   "interpreter": {
    "hash": "ae65bdaf62d0cdd9172ed97cdb113dfb0ff3592515b122f9af362fcdf75a5a60"
   }
  }
 },
 "nbformat": 4,
 "nbformat_minor": 2
}
