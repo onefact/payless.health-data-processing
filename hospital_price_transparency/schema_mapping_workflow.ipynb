{
 "cells": [
  {
   "cell_type": "code",
   "execution_count": 18,
   "metadata": {},
   "outputs": [
    {
     "name": "stdout",
     "output_type": "stream",
     "text": [
      "The autoreload extension is already loaded. To reload it, use:\n",
      "  %reload_ext autoreload\n"
     ]
    }
   ],
   "source": [
    "%load_ext autoreload\n",
    "%autoreload 2"
   ]
  },
  {
   "cell_type": "code",
   "execution_count": 19,
   "metadata": {},
   "outputs": [],
   "source": [
    "import socket\n",
    "socket.setdefaulttimeout(1)\n",
    "\n",
    "import pandas as pd\n",
    "import schema_mapping\n",
    "from pathlib import Path\n",
    "from tqdm import tqdm\n",
    "    "
   ]
  },
  {
   "cell_type": "code",
   "execution_count": 20,
   "metadata": {},
   "outputs": [],
   "source": [
    "df = pd.read_csv(\"./hospital_price_transparency/data/hospitals.csv\")\n",
    "out_path = Path(\"./hospital_price_transparency/\")\n",
    "df_url_present = df[~df[\"cdm_url\"].isna()]\n",
    "df_csv = df_url_present[df_url_present[\"cdm_url\"].str.endswith(\".csv\")]"
   ]
  },
  {
   "cell_type": "code",
   "execution_count": 21,
   "metadata": {},
   "outputs": [
    {
     "name": "stderr",
     "output_type": "stream",
     "text": [
      "100%|██████████| 10/10 [00:10<00:00,  1.04s/it]\n"
     ]
    }
   ],
   "source": [
    "# infer the schema map for a few example hospital URLs\n",
    "for ccn, url in tqdm(df_csv[[\"ccn\", \"cdm_url\"]].values[0:10]):\n",
    "    # print(ccn, url)\n",
    "    header = schema_mapping.read_csv_header(url=url, num_rows=3)\n",
    "    schema_map = schema_mapping.infer_schema_map(header)\n",
    "    schema_mapping.write_schema_map(schema_map=schema_map, out_file=out_path / \"schema_maps\" / f\"ccn={ccn}.json\")"
   ]
  },
  {
   "cell_type": "markdown",
   "metadata": {},
   "source": [
    "Now try reading the data in according to the standardized schema, using Apache Arrow:\n",
    "\n",
    "https://arrow.apache.org/docs/python/generated/pyarrow.Table.html\n"
   ]
  },
  {
   "cell_type": "code",
   "execution_count": 22,
   "metadata": {},
   "outputs": [],
   "source": [
    "import pyarrow as pa\n",
    "import json\n",
    "import pyarrow.parquet as pq\n",
    "import schema"
   ]
  },
  {
   "cell_type": "code",
   "execution_count": 23,
   "metadata": {},
   "outputs": [
    {
     "data": {
      "text/plain": [
       "total_charge: float\n",
       "description: string\n",
       "ccn: int32\n",
       "ein: int32\n",
       "billing_code_type: string\n",
       "billing_code: string\n",
       "negotiated_rate: float\n",
       "billing_code_modifier: string"
      ]
     },
     "execution_count": 23,
     "metadata": {},
     "output_type": "execute_result"
    }
   ],
   "source": [
    "schema.HOSPITAL_PRICE_TRANSPARENCY_SCHEMA"
   ]
  },
  {
   "cell_type": "code",
   "execution_count": 27,
   "metadata": {},
   "outputs": [
    {
     "name": "stdout",
     "output_type": "stream",
     "text": [
      "hospital_price_transparency/schema_maps/ccn=010012.json\n",
      "hospital_price_transparency/schema_maps/ccn=240014.json\n",
      "[369.0, 121.0, 0.0, 89.0, 36.0]\n",
      "hospital_price_transparency/schema_maps/ccn=240043.json\n"
     ]
    }
   ],
   "source": [
    "for file_path in (out_path / \"schema_maps\").iterdir():\n",
    "    print(file_path)\n",
    "    ccn = file_path.name.split(\"=\")[1].split(\".\")[0]\n",
    "    url = df_csv[df_csv[\"ccn\"] == ccn][\"cdm_url\"].item()\n",
    "    with file_path.open(\"r\") as f:\n",
    "        schema_map = json.loads(f.read())\n",
    "    unique_mapped = list(set(schema_map.values()))\n",
    "    if \"total_charge\" in unique_mapped:\n",
    "        first_matching_column = next(\n",
    "            key for key, value in schema_map.items() if \"total_charge\" in value\n",
    "        )\n",
    "        try:\n",
    "            df_ccn = pd.read_csv(url)\n",
    "            total_charge_list = df_ccn[first_matching_column].head().tolist()\n",
    "            print(total_charge_list)\n",
    "            size = len(total_charge_list)\n",
    "            empty_list = [None] * size\n",
    "            pylist = [\n",
    "                {\"total_charge\": total_charge, \"ccn\": int(ccn)}\n",
    "                for total_charge in total_charge_list\n",
    "            ]\n",
    "            table = pa.Table.from_pylist(\n",
    "                pylist,\n",
    "                schema=schema.HOSPITAL_PRICE_TRANSPARENCY_SCHEMA,\n",
    "            )\n",
    "            pq.write_table(table, out_path / \"standardized_data\" / f\"ccn={ccn}.parquet\")\n",
    "        except Exception as e:\n",
    "            print(e)\n",
    "            pass\n"
   ]
  },
  {
   "cell_type": "markdown",
   "metadata": {},
   "source": [
    "Now query the parquet files using duckdb"
   ]
  },
  {
   "cell_type": "code",
   "execution_count": null,
   "metadata": {},
   "outputs": [
    {
     "data": {
      "text/html": [
       "<div>\n",
       "<style scoped>\n",
       "    .dataframe tbody tr th:only-of-type {\n",
       "        vertical-align: middle;\n",
       "    }\n",
       "\n",
       "    .dataframe tbody tr th {\n",
       "        vertical-align: top;\n",
       "    }\n",
       "\n",
       "    .dataframe thead th {\n",
       "        text-align: right;\n",
       "    }\n",
       "</style>\n",
       "<table border=\"1\" class=\"dataframe\">\n",
       "  <thead>\n",
       "    <tr style=\"text-align: right;\">\n",
       "      <th></th>\n",
       "      <th>total_charge</th>\n",
       "      <th>description</th>\n",
       "      <th>ccn</th>\n",
       "      <th>ein</th>\n",
       "      <th>billing_code_type</th>\n",
       "      <th>billing_code</th>\n",
       "      <th>negotiated_rate</th>\n",
       "      <th>billing_code_modifier</th>\n",
       "    </tr>\n",
       "  </thead>\n",
       "  <tbody>\n",
       "    <tr>\n",
       "      <th>0</th>\n",
       "      <td>369.0</td>\n",
       "      <td>NaN</td>\n",
       "      <td>240014</td>\n",
       "      <td>NaN</td>\n",
       "      <td>NaN</td>\n",
       "      <td>NaN</td>\n",
       "      <td>NaN</td>\n",
       "      <td>NaN</td>\n",
       "    </tr>\n",
       "    <tr>\n",
       "      <th>1</th>\n",
       "      <td>121.0</td>\n",
       "      <td>NaN</td>\n",
       "      <td>240014</td>\n",
       "      <td>NaN</td>\n",
       "      <td>NaN</td>\n",
       "      <td>NaN</td>\n",
       "      <td>NaN</td>\n",
       "      <td>NaN</td>\n",
       "    </tr>\n",
       "    <tr>\n",
       "      <th>2</th>\n",
       "      <td>0.0</td>\n",
       "      <td>NaN</td>\n",
       "      <td>240014</td>\n",
       "      <td>NaN</td>\n",
       "      <td>NaN</td>\n",
       "      <td>NaN</td>\n",
       "      <td>NaN</td>\n",
       "      <td>NaN</td>\n",
       "    </tr>\n",
       "    <tr>\n",
       "      <th>3</th>\n",
       "      <td>89.0</td>\n",
       "      <td>NaN</td>\n",
       "      <td>240014</td>\n",
       "      <td>NaN</td>\n",
       "      <td>NaN</td>\n",
       "      <td>NaN</td>\n",
       "      <td>NaN</td>\n",
       "      <td>NaN</td>\n",
       "    </tr>\n",
       "    <tr>\n",
       "      <th>4</th>\n",
       "      <td>36.0</td>\n",
       "      <td>NaN</td>\n",
       "      <td>240014</td>\n",
       "      <td>NaN</td>\n",
       "      <td>NaN</td>\n",
       "      <td>NaN</td>\n",
       "      <td>NaN</td>\n",
       "      <td>NaN</td>\n",
       "    </tr>\n",
       "  </tbody>\n",
       "</table>\n",
       "</div>"
      ],
      "text/plain": [
       "   total_charge description     ccn  ein billing_code_type billing_code  \\\n",
       "0         369.0         NaN  240014  NaN               NaN          NaN   \n",
       "1         121.0         NaN  240014  NaN               NaN          NaN   \n",
       "2           0.0         NaN  240014  NaN               NaN          NaN   \n",
       "3          89.0         NaN  240014  NaN               NaN          NaN   \n",
       "4          36.0         NaN  240014  NaN               NaN          NaN   \n",
       "\n",
       "   negotiated_rate billing_code_modifier  \n",
       "0              NaN                   NaN  \n",
       "1              NaN                   NaN  \n",
       "2              NaN                   NaN  \n",
       "3              NaN                   NaN  \n",
       "4              NaN                   NaN  "
      ]
     },
     "execution_count": 17,
     "metadata": {},
     "output_type": "execute_result"
    }
   ],
   "source": [
    "import duckdb \n",
    "\n",
    "con = duckdb.connect()\n",
    "con.execute(\"SELECT * FROM 'hospital_price_transparency/standardized_data/*.parquet'\").df()"
   ]
  },
  {
   "cell_type": "code",
   "execution_count": null,
   "metadata": {},
   "outputs": [],
   "source": []
  }
 ],
 "metadata": {
  "kernelspec": {
   "display_name": "Python 3.10.8 ('payless.health')",
   "language": "python",
   "name": "python3"
  },
  "language_info": {
   "codemirror_mode": {
    "name": "ipython",
    "version": 3
   },
   "file_extension": ".py",
   "mimetype": "text/x-python",
   "name": "python",
   "nbconvert_exporter": "python",
   "pygments_lexer": "ipython3",
   "version": "3.10.8"
  },
  "orig_nbformat": 4,
  "vscode": {
   "interpreter": {
    "hash": "ae65bdaf62d0cdd9172ed97cdb113dfb0ff3592515b122f9af362fcdf75a5a60"
   }
  }
 },
 "nbformat": 4,
 "nbformat_minor": 2
}
